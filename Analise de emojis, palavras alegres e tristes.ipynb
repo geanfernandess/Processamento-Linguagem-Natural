{
  "cells": [
    {
      "cell_type": "code",
      "execution_count": null,
      "metadata": {
        "id": "nEUpacJCrgDM"
      },
      "outputs": [],
      "source": [
        "!pip install nltk -q\n",
        "!pip install gensim -q\n",
        "!pip install wordcloud -q\n",
        "!pip install emoji -q\n",
        "!python -m spacy download pt -q\n",
        "!pip install botometer -q"
      ]
    },
    {
      "cell_type": "code",
      "execution_count": null,
      "metadata": {
        "id": "7fi7I2fhkCNl"
      },
      "outputs": [],
      "source": [
        "# IMPORTAÇÃO DAS BIBLIOTECAS\n",
        "from nltk.corpus import stopwords\n",
        "import seaborn as sns\n",
        "import pandas as pd \n",
        "import numpy as np \n",
        "import string\n",
        "import re\n",
        "import nltk\n",
        "import emoji\n",
        "import spacy \n",
        "import botometer\n",
        "nltk.download('punkt')\n",
        "nltk.download('stopwords')\n",
        "pd.options.mode.chained_assignment = None  "
      ]
    },
    {
      "cell_type": "code",
      "execution_count": null,
      "metadata": {
        "id": "R14D0H5f0dH8"
      },
      "outputs": [],
      "source": [
        "# LEITURA DO DATAFRAME COM PANDAS   \n",
        "data = pd.read_csv('tweets_coletados.csv', sep=';')"
      ]
    },
    {
      "cell_type": "code",
      "execution_count": null,
      "metadata": {
        "id": "dVN0hlLjIqn9"
      },
      "outputs": [],
      "source": [
        "# FUNÇÕES PARA CONTAGEM DE TWEETS COM EMOJIS\n",
        "# return = 0 (não contém) | return = 1 (contém)\n",
        "\n",
        "def verifica_emojis(text):\n",
        "  inicio = []\n",
        "  fim = []\n",
        "  text_temp = str(text)\n",
        "  text_temp = text_temp.lower()\n",
        "  inicio.append(text_temp)\n",
        "  text_temp = remove_emoji(text_temp)\n",
        "  fim.append(text_temp)\n",
        "  if(np.array_equal(inicio,fim)==True):\n",
        "    return 0  # Não contém emojis no tweet\n",
        "  else:\n",
        "    return 1  # Contém emojis no tweet\n",
        "\n",
        "def remove_emoji(string):\n",
        "    emoji_pattern = re.compile(\"[\"\n",
        "                               u\"\\U0001F600-\\U0001F64F\"  # emoticons\n",
        "                               u\"\\U0001F300-\\U0001F5FF\"  # symbols \n",
        "                               u\"\\U0001F680-\\U0001F6FF\"  # map symbols\n",
        "                               u\"\\U0001F1E0-\\U0001F1FF\"  # flags (iOS)\n",
        "                               u\"\\U00002500-\\U00002BEF\"  # chinese char\n",
        "                               u\"\\U00002702-\\U000027B0\"\n",
        "                               u\"\\U00002702-\\U000027B0\"\n",
        "                               u\"\\U000024C2-\\U0001F251\"\n",
        "                               u\"\\U0001f926-\\U0001f937\"\n",
        "                               u\"\\U00010000-\\U0010ffff\"\n",
        "                               u\"\\u2640-\\u2642\"\n",
        "                               u\"\\u2600-\\u2B55\"\n",
        "                               u\"\\u200d\"\n",
        "                               u\"\\u23cf\"\n",
        "                               u\"\\u23e9\"\n",
        "                               u\"\\u231a\"\n",
        "                               u\"\\ufe0f\"  \n",
        "                               u\"\\u3030\"\n",
        "                               \"]+\", flags=re.UNICODE)\n",
        "    return emoji_pattern.sub(r'', string)"
      ]
    },
    {
      "cell_type": "code",
      "execution_count": null,
      "metadata": {
        "colab": {
          "base_uri": "https://localhost:8080/"
        },
        "id": "wNMJEELoIqkF",
        "outputId": "8001248f-ff9e-4e77-d820-1a949d1af771"
      },
      "outputs": [
        {
          "name": "stdout",
          "output_type": "stream",
          "text": [
            "7948 tweets contém emojis\n"
          ]
        }
      ],
      "source": [
        "# CONTAGEM DOS TWEETS QUE CONTÉM EMOJIS\n",
        "\n",
        "# Criação de um dataframe para\n",
        "df_emojis = data['full_text'].apply(verifica_emojis)\n",
        "\n",
        "# Filtra os tweets que não tem emojis\n",
        "filtro = df_emojis==1\n",
        "result_df_emojis = df_emojis[filtro]\n",
        "\n",
        "print(str(result_df_emojis.count()) + ' tweets contém emojis')"
      ]
    },
    {
      "cell_type": "code",
      "execution_count": null,
      "metadata": {
        "id": "JKhTnvIx93zE"
      },
      "outputs": [],
      "source": [
        "# FUNÇÕES PARA CONTAR QUANTOS TWEETS TEM PALAVRAS RELACIONADAS A TRISTEZA\n",
        "\n",
        "# Função para selecionar e classificar os tweets com palavras tristes\n",
        "def select_tweet(tweet, word):\n",
        "  tweet = str(tweet)\n",
        "  word = str(word)\n",
        "  tweet = tweet.lower()\n",
        "  word = word.lower()\n",
        "  if ((word in tweet)==True):\n",
        "    return word\n",
        "\n",
        "# Função para agrupar todos os tweets com palavras tristes\n",
        "all_tweets = []\n",
        "def agrupa_tweets(text):\n",
        "  all_tweets.append(text)\n",
        "\n",
        "# Função para contagem dos tweets com palavras tristes\n",
        "def cont_tweet(word):\n",
        "  clean_all_tweets = filter(None, all_tweets)\n",
        "  str_all_tweets = ' '.join(clean_all_tweets)\n",
        "  return (word + ': ' + str(str_all_tweets.count(word)) +' vezes')"
      ]
    },
    {
      "cell_type": "code",
      "execution_count": null,
      "metadata": {
        "colab": {
          "base_uri": "https://localhost:8080/"
        },
        "id": "JEBr2Y2InXHj",
        "outputId": "917563aa-6718-4e1a-fb6d-b687f9871237"
      },
      "outputs": [
        {
          "name": "stdout",
          "output_type": "stream",
          "text": [
            "acolhedor: 2 vezes\n",
            "agradável: 4 vezes\n",
            "alegre: 80 vezes\n",
            "amado: 92 vezes\n",
            "auxílio: 81 vezes\n",
            "belo: 93 vezes\n",
            "bem: 721 vezes\n",
            "benéfico: 2 vezes\n",
            "benigno: 0 vezes\n",
            "bom: 404 vezes\n",
            "bondoso: 0 vezes\n",
            "bonito: 17 vezes\n",
            "contente: 5 vezes\n",
            "emocionar: 5 vezes\n",
            "extraordinário: 13 vezes\n",
            "fácil: 56 vezes\n",
            "fantástico: 19 vezes\n",
            "feliz: 438 vezes\n",
            "gentil: 23 vezes\n",
            "gracioso: 0 vezes\n",
            "homenagem: 139 vezes\n",
            "ideal: 10 vezes\n",
            "incrível: 34 vezes\n",
            "melhor: 410 vezes\n",
            "muito: 953 vezes\n",
            "ótimo: 15 vezes\n",
            "perfeito : 6 vezes\n",
            "positivo: 247 vezes\n",
            "pureza: 4 vezes\n",
            "satisfação: 6 vezes\n",
            "sensacional: 13 vezes\n",
            "simpático: 1 vezes\n",
            "simples: 85 vezes\n",
            "singular: 1 vezes\n",
            "sonho: 48 vezes\n"
          ]
        }
      ],
      "source": [
        "# FILTRANDO OS TWEETS DE ACORDO COM PALAVRAS ALEGRES\n",
        "\n",
        "# Adicionando as palavras alegres para entrada\n",
        "# IMPORTANTE: NÃO DEIXAR NENHUMA ENTRADA COM '' OU ' '\n",
        "words_happy = ['acolhedor', 'agradável', 'alegre', 'amado', 'auxílio', 'belo', 'bem', 'benéfico', 'benigno', 'bom',\n",
        "                'bondoso', 'bonito', 'contente', 'emocionar', 'extraordinário', 'fácil', 'fantástico', 'feliz', 'gentil',\n",
        "                'gracioso', 'homenagem', 'ideal', 'incrível', 'melhor', 'muito', 'ótimo', 'perfeito ', 'positivo',\n",
        "                'pureza', 'satisfação', 'sensacional', 'simpático', 'simples', 'singular', 'sonho']\n",
        "\n",
        "df = data[['full_text']]\n",
        "\n",
        "# Aplicando a função para seleção dos tweets \n",
        "# Será criado uma coluna para cada uma das frases de entrada\n",
        "for word in words_happy:\n",
        "  df[word] = df['full_text'].apply(select_tweet, word=word)\n",
        "\n",
        "# Entrada para agrupamento dos tweets \n",
        "for word in words_happy:\n",
        "  text = 'contagem_'+word\n",
        "  df[text] = df[word].apply(agrupa_tweets)\n",
        "\n",
        "# Contagem dos tweets que aparecem palavras tristes\n",
        "for word in words_happy:\n",
        "  text = 'contagem_'+word\n",
        "  df[text] = cont_tweet(word)\n",
        "\n",
        "# Imprimindo o resultado \n",
        "for word in words_happy:\n",
        "  text = 'contagem_'+word\n",
        "  print(df[text].loc[0])\n"
      ]
    },
    {
      "cell_type": "code",
      "execution_count": null,
      "metadata": {
        "colab": {
          "base_uri": "https://localhost:8080/"
        },
        "id": "r2gw-RY-93oa",
        "outputId": "2ebac2dc-52c9-4820-ac33-fe1d77d9d4ff"
      },
      "outputs": [
        {
          "name": "stderr",
          "output_type": "stream",
          "text": [
            "/usr/local/lib/python3.7/dist-packages/ipykernel_launcher.py:23: PerformanceWarning: DataFrame is highly fragmented.  This is usually the result of calling `frame.insert` many times, which has poor performance.  Consider joining all columns at once using pd.concat(axis=1) instead.  To get a de-fragmented frame, use `newframe = frame.copy()`\n"
          ]
        },
        {
          "name": "stdout",
          "output_type": "stream",
          "text": [
            "abandonar: 6 vezes\n",
            "calamidade: 28 vezes\n",
            "carência: 2 vezes\n",
            "chateado: 0 vezes\n",
            "comover: 2 vezes\n",
            "desanimar: 2 vezes\n",
            "desastre: 25 vezes\n",
            "descontente: 1 vezes\n",
            "descrença: 2 vezes\n",
            "desemprego: 42 vezes\n",
            "desgaste: 4 vezes\n",
            "desiludido: 0 vezes\n",
            "desinteresse: 2 vezes\n",
            "despedir: 11 vezes\n",
            "desprezo: 12 vezes\n",
            "doente: 129 vezes\n",
            "doença: 1095 vezes\n",
            "dramático: 1 vezes\n",
            "estrago: 9 vezes\n",
            "estresse: 8 vezes\n",
            "falecimento: 48 vezes\n",
            "falta: 579 vezes\n",
            "fatalidade: 2 vezes\n",
            "ferir: 37 vezes\n",
            "fraco: 6 vezes\n",
            "frustração: 1 vezes\n",
            "grave: 264 vezes\n",
            "infeliz: 284 vezes\n",
            "infortúnio: 1 vezes\n",
            "insatisfação: 1 vezes\n",
            "insensível: 2 vezes\n",
            "inútil: 8 vezes\n",
            "irreparável: 8 vezes\n",
            "irreversível: 27 vezes\n",
            "lamento: 381 vezes\n",
            "machucar: 2 vezes\n",
            "magoado: 1 vezes\n",
            "morte: 3473 vezes\n",
            "penoso: 0 vezes\n",
            "penúria: 0 vezes\n",
            "perda: 150 vezes\n",
            "pesado: 10 vezes\n",
            "pesar: 169 vezes\n",
            "péssimo: 8 vezes\n",
            "prejudicial: 4 vezes\n",
            "problema: 168 vezes\n",
            "rancor: 1 vezes\n",
            "rejeição: 8 vezes\n",
            "ruim: 48 vezes\n",
            "subestimar: 2 vezes\n",
            "sumir: 26 vezes\n",
            "súplica: 3 vezes\n",
            "tragédia: 99 vezes\n",
            "traumático: 2 vezes\n",
            "triste: 506 vezes\n"
          ]
        }
      ],
      "source": [
        "# FILTRANDO OS TWEETS DE ACORDO COM PALAVRAS TRISTES\n",
        "\n",
        "# Adicionando as palavras tristes para entrada\n",
        "# IMPORTANTE: NÃO DEIXAR NENHUMA ENTRADA COM '' OU ' '\n",
        "words_sad = ['abandonar', 'calamidade', 'carência', 'chateado', 'comover', 'desanimar', 'desastre', 'descontente',\n",
        "             'descrença', 'desemprego', 'desgaste', 'desiludido', 'desinteresse', 'despedir', 'desprezo', 'doente',\n",
        "             'doença', 'dramático', 'estrago', 'estresse', 'falecimento', 'falta', 'fatalidade', 'ferir', 'fraco',\n",
        "             'frustração', 'grave', 'infeliz', 'infortúnio', 'insatisfação', 'insensível', 'inútil', 'irreparável',\n",
        "             'irreversível', 'lamento', 'machucar', 'magoado', 'morte', 'penoso', 'penúria','perda', 'pesado', \n",
        "             'pesar', 'péssimo', 'prejudicial', 'problema', 'rancor', 'rejeição', 'ruim', 'subestimar', 'sumir', \n",
        "             'súplica', 'tragédia', 'traumático', 'triste'] \n",
        "\n",
        "df = data[['full_text']]\n",
        "\n",
        "# Aplicando a função para seleção dos tweets \n",
        "# Será criado uma coluna para cada uma das frases de entrada\n",
        "for word in words_sad:\n",
        "  df[word] = df['full_text'].apply(select_tweet, word=word)\n",
        "\n",
        "# Entrada para agrupamento dos tweets \n",
        "for word in words_sad:\n",
        "  text = 'contagem_'+word\n",
        "  df[text] = df[word].apply(agrupa_tweets)\n",
        "\n",
        "# Contagem dos tweets que aparecem palavras tristes\n",
        "for word in words_sad:\n",
        "  text = 'contagem_'+word\n",
        "  df[text] = cont_tweet(word)\n",
        "\n",
        "# Imprimindo o resultado \n",
        "for word in words_sad:\n",
        "  text = 'contagem_'+word\n",
        "  print(df[text].loc[0])\n"
      ]
    }
  ],
  "metadata": {
    "colab": {
      "collapsed_sections": [],
      "provenance": []
    },
    "kernelspec": {
      "display_name": "Python 3",
      "name": "python3"
    },
    "language_info": {
      "name": "python"
    }
  },
  "nbformat": 4,
  "nbformat_minor": 0
}
