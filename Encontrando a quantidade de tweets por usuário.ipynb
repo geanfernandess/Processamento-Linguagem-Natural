{
  "cells": [
    {
      "cell_type": "code",
      "execution_count": null,
      "metadata": {
        "colab": {
          "base_uri": "https://localhost:8080/",
          "height": 458
        },
        "id": "R14D0H5f0dH8",
        "outputId": "d95987d1-43b2-42e9-e0ce-ab064c4e9f7c"
      },
      "outputs": [],
      "source": [
        "# IMPORTAÇÃO DAS BIBLIOTECAS\n",
        "import seaborn as sns\n",
        "import pandas as pd \n",
        "import numpy as np \n",
        "import string\n",
        "import re\n",
        "pd.options.mode.chained_assignment = None  "
      ]
    },
    {
      "cell_type": "code",
      "execution_count": null,
      "metadata": {},
      "outputs": [],
      "source": [
        "# LEITURA DO DATAFRAME COM PANDAS\n",
        "data = pd.read_csv('/content/drive/MyDrive/PesquisaCovid/db/db_2020-02-01_2020-03-31.csv')"
      ]
    },
    {
      "cell_type": "code",
      "execution_count": null,
      "metadata": {},
      "outputs": [],
      "source": [
        "# Renomeando coluna\n",
        "data = data.rename(columns={'content': 'full_text'})"
      ]
    },
    {
      "cell_type": "code",
      "execution_count": null,
      "metadata": {},
      "outputs": [],
      "source": [
        "# FUNÇÕES PARA CONTAGEM DE TWEETS DE ACORDO COM USUÁRIO\n",
        "\n",
        "# Função para filtrar a conta do usuário \n",
        "def filtra_users(text):\n",
        "  aux = 0\n",
        "  text_temp = str(text)\n",
        "  text_temp = text_temp.split()\n",
        "  for word in text_temp:\n",
        "    aux = aux + 1\n",
        "    if (word == \"'username':\"):\n",
        "      posicao = aux\n",
        "  text_temp = text_temp[posicao]\n",
        "  text_temp = re.sub(r\"[',]\", ' ', text_temp)\n",
        "  return text_temp\n",
        "\n",
        "# Função para agrupar todos os usuários em um único arquivo de texto\n",
        "all_users = []\n",
        "def agrupa_users(text):\n",
        "  all_users.append(text)\n",
        "\n",
        "# Função para contar todos os usuários em um único arquivo de texto\n",
        "def conta_tweets_user(text): \n",
        "  text_temp = text.strip()\n",
        "  str_all_users = ''.join(all_users)\n",
        "  return str_all_users.count(text_temp)"
      ]
    },
    {
      "cell_type": "code",
      "execution_count": null,
      "metadata": {},
      "outputs": [],
      "source": [
        "# REALIZANDO A CONTAGEM DE TWEETS POR USUÁRIO\n",
        "\n",
        "# Criação de um novo dataframe com os dados do usuário\n",
        "df = data[['id','full_text','user']]\n",
        "\n",
        "# Aplicando a função para filtrar o nome de usuário dos dados\n",
        "df['conta'] = df['user'].apply(filtra_users)\n",
        "\n",
        "# Entrada de dados para agrupamento de todos os usuários\n",
        "df['conta'].apply(agrupa_users)\n",
        "\n",
        "# Função para contagem dos usúarios no agrupamento\n",
        "df['qnt_tweets'] = df['conta'].apply(conta_tweets_user)"
      ]
    },
    {
      "cell_type": "code",
      "execution_count": null,
      "metadata": {},
      "outputs": [],
      "source": [
        "# TRATAMENTO E VISUALIZAÇÃO DA QUANTIDADE DE TWEETS POR USUÁRIO\n",
        "\n",
        "# Eliminando os dados duplicados \n",
        "new_df = df.drop_duplicates(subset=['conta'])\n",
        "\n",
        "# Colocando os dados em ordem decrescente de acordom com a qtd de tweets\n",
        "result_new_df = new_df[['id','conta','qnt_tweets']].sort_values(by=['qnt_tweets'], ascending=False)\n",
        "result_new_df.reset_index(drop = True, inplace=True)\n",
        "\n",
        "# Contando quantos usuários diferentes existem no dataframe\n",
        "print('Existem '+str(result_new_df.conta.count())\n",
        "      +' usuários no dataframe')"
      ]
    }
  ],
  "metadata": {
    "colab": {
      "collapsed_sections": [],
      "provenance": []
    },
    "kernelspec": {
      "display_name": "Python 3",
      "name": "python3"
    },
    "language_info": {
      "name": "python"
    }
  },
  "nbformat": 4,
  "nbformat_minor": 0
}
