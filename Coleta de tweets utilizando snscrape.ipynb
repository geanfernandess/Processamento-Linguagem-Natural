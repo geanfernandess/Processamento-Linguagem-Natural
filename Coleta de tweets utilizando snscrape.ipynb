{
  "cells": [
    {
      "cell_type": "code",
      "execution_count": null,
      "id": "15d5dae1",
      "metadata": {
        "id": "15d5dae1"
      },
      "outputs": [],
      "source": [
        "# Intalando bibliotecas\n",
        "!pip3 install snscrape -q\n",
        "!pip install pandas -q"
      ]
    },
    {
      "cell_type": "code",
      "execution_count": null,
      "id": "bbf57b1f",
      "metadata": {},
      "outputs": [],
      "source": [
        "# Realizando os importes\n",
        "import os\n",
        "import pandas as pd"
      ]
    },
    {
      "cell_type": "code",
      "execution_count": null,
      "id": "bf6370f0",
      "metadata": {
        "id": "bf6370f0",
        "outputId": "de3e9fb7-ad1f-4d1a-cd1b-415d43a1638a"
      },
      "outputs": [
        {
          "data": {
            "text/plain": [
              "0"
            ]
          },
          "execution_count": 14,
          "metadata": {},
          "output_type": "execute_result"
        }
      ],
      "source": [
        "# Configurando e salvando os arquivos json\n",
        "os.system('snscrape --jsonl \n",
        "                    --since 2020-02-01 \n",
        "                    twitter-search \"covid until:2020-03-31 \n",
        "                    lang:pt \n",
        "                    near:Brazil\" > db.json')"
      ]
    },
    {
      "cell_type": "code",
      "execution_count": null,
      "id": "41f8c1de",
      "metadata": {
        "id": "41f8c1de",
        "outputId": "301f7dc0-8200-4627-c6ea-16e7000425e8",
        "scrolled": true
      },
      "outputs": [
        {
          "name": "stdout",
          "output_type": "stream",
          "text": [
            "26233\n"
          ]
        }
      ],
      "source": [
        "# Lendo os arquivos json criados\n",
        "df = pd.read_json('db_2020-02-01_2020-03-31.json', lines=True)"
      ]
    },
    {
      "cell_type": "code",
      "execution_count": null,
      "id": "JhYHR7oGVyx5",
      "metadata": {
        "id": "JhYHR7oGVyx5"
      },
      "outputs": [],
      "source": [
        "# Salvando os dataframes criados\n",
        "df.to_csv(\"db_2020-02-01_2020-03-31.csv\")"
      ]
    }
  ],
  "metadata": {
    "colab": {
      "provenance": []
    },
    "kernelspec": {
      "display_name": "Python 3 (ipykernel)",
      "language": "python",
      "name": "python3"
    },
    "language_info": {
      "codemirror_mode": {
        "name": "ipython",
        "version": 3
      },
      "file_extension": ".py",
      "mimetype": "text/x-python",
      "name": "python",
      "nbconvert_exporter": "python",
      "pygments_lexer": "ipython3",
      "version": "3.9.12"
    }
  },
  "nbformat": 4,
  "nbformat_minor": 5
}
