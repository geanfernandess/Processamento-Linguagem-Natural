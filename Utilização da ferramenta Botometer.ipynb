{
  "cells": [
    {
      "cell_type": "code",
      "execution_count": null,
      "metadata": {
        "id": "8bnmb_MYFyGt"
      },
      "outputs": [],
      "source": [
        "# Instalando as bibliotecas\n",
        "!pip install botometer -q"
      ]
    },
    {
      "cell_type": "code",
      "execution_count": null,
      "metadata": {
        "id": "7fi7I2fhkCNl"
      },
      "outputs": [],
      "source": [
        "import botometer\n",
        "import pandas as pd"
      ]
    },
    {
      "cell_type": "code",
      "execution_count": null,
      "metadata": {
        "id": "4mPcesxJ25yS"
      },
      "outputs": [],
      "source": [
        "# LEITURA DO DATAFRAME COM PANDAS\n",
        "data = pd.read_csv('users_exceptions.csv', sep=',')"
      ]
    },
    {
      "cell_type": "code",
      "execution_count": null,
      "metadata": {
        "id": "ptlC1NWPLYZ9"
      },
      "outputs": [],
      "source": [
        "# CRIAÇÃO DE UMA LISTA DE USUÁRIOS\n",
        "lista_users = []\n",
        "\n",
        "def agrupa_usuario(text):\n",
        "  lista_users.append(text)\n",
        "\n",
        "data.conta.apply(agrupa_usuario)\n",
        "\n",
        "lista_users"
      ]
    },
    {
      "cell_type": "code",
      "execution_count": null,
      "metadata": {
        "id": "51ZhbEZKSsed"
      },
      "outputs": [],
      "source": [
        "# FUNÇÃO PARA ANÁLISE DE BOTS COM O BOTOMETER\n",
        "\n",
        "# Função para checar se uma conta é um bot\n",
        "def check_conta(text):\n",
        "  rapidapi_key = 'xxxxxxxxx'\n",
        "  twitter_app_auth = {\n",
        "      'consumer_key': 'xxxxxxxxx',\n",
        "      'consumer_secret': 'xxxxxxxxx',\n",
        "      'access_token': 'xxxxxxxxx-xxxxxxxxx',\n",
        "      'access_token_secret': 'xxxxxxxxx', }\n",
        "  bom = botometer.Botometer(wait_on_ratelimit=True, \n",
        "                            rapidapi_key=rapidapi_key, \n",
        "                            **twitter_app_auth)\n",
        "  result = bom.check_account(text)\n",
        "  return result"
      ]
    },
    {
      "cell_type": "code",
      "execution_count": null,
      "metadata": {
        "id": "62vOS7WPSsXf"
      },
      "outputs": [],
      "source": [
        "from time import sleep\n",
        "\n",
        "# Criação de um dataframe com a coluna de usuário\n",
        "exception_botometer = []\n",
        "result_botometer = []\n",
        "\n",
        "for word in lista_users:\n",
        "  try:\n",
        "    result = word, ' -> ', check_conta(word)\n",
        "    result_botometer.append(result)\n",
        "    sleep(1)\n",
        "  except Exception as e: \n",
        "    print(e, 'User ->', word)\n",
        "    exception = ' User ->', word, ' erro: ', str(e)\n",
        "    exception_botometer.append(exception)"
      ]
    }
  ],
  "metadata": {
    "colab": {
      "collapsed_sections": [],
      "provenance": []
    },
    "kernelspec": {
      "display_name": "Python 3",
      "name": "python3"
    },
    "language_info": {
      "name": "python"
    }
  },
  "nbformat": 4,
  "nbformat_minor": 0
}
