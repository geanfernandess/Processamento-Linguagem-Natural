{
  "cells": [
    {
      "cell_type": "code",
      "execution_count": null,
      "metadata": {
        "id": "zBx1iBnH5hlB"
      },
      "outputs": [],
      "source": [
        "pip install googletrans==3.1.0a0 -q\n",
        "!head -n1 data_analysis.csv"
      ]
    },
    {
      "cell_type": "code",
      "execution_count": null,
      "metadata": {
        "id": "gEZ-cE8k5Rll"
      },
      "outputs": [],
      "source": [
        "import pandas\n",
        "from googletrans import Translator\n",
        "tradutor = Translator()"
      ]
    },
    {
      "cell_type": "code",
      "execution_count": null,
      "metadata": {
        "id": "QuL27_hg5Rlm"
      },
      "outputs": [],
      "source": [
        "# Leitura do dataframe para tradução\n",
        "df = pandas.read_csv(\"dataframe.txt\", sep='\\t', header=None)"
      ]
    },
    {
      "cell_type": "code",
      "execution_count": null,
      "metadata": {
        "id": "GXP08eYBCEgw"
      },
      "outputs": [],
      "source": [
        "# Renomeando a coluna que será traduzida\n",
        "df.rename(columns = {0:'new_column'}, inplace = True)"
      ]
    },
    {
      "cell_type": "code",
      "execution_count": null,
      "metadata": {
        "id": "5hOsCZ4T5Rln"
      },
      "outputs": [],
      "source": [
        "# Função para tradução\n",
        "def traduzir(value):\n",
        "    try:\n",
        "        if str(tradutor.detect(value))[14:16] == \"en\":\n",
        "            td = tradutor.translate(value, src=\"en\", dest=\"pt\")\n",
        "            return td.text\n",
        "        else: return value\n",
        "    except:\n",
        "        print(\"gerou uma exceçao\")"
      ]
    },
    {
      "cell_type": "code",
      "execution_count": null,
      "metadata": {
        "id": "CoLSyhBY5Rln"
      },
      "outputs": [],
      "source": [
        "# Aplicando a função de tradução na coluna selecionada\n",
        "df['new_column'] = df['new_column'].apply(traduzir)\n",
        "\n",
        "# Visualizando o dataframe após a tradução\n",
        "df"
      ]
    }
  ],
  "metadata": {
    "colab": {
      "collapsed_sections": [],
      "provenance": []
    },
    "kernelspec": {
      "display_name": "Python 3",
      "language": "python",
      "name": "python3"
    },
    "language_info": {
      "codemirror_mode": {
        "name": "ipython",
        "version": 3
      },
      "file_extension": ".py",
      "mimetype": "text/x-python",
      "name": "python",
      "nbconvert_exporter": "python",
      "pygments_lexer": "ipython3",
      "version": "3.7.4"
    }
  },
  "nbformat": 4,
  "nbformat_minor": 0
}
