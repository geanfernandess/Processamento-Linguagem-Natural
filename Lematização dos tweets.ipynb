{
  "cells": [
    {
      "cell_type": "code",
      "execution_count": null,
      "metadata": {
        "id": "nEUpacJCrgDM"
      },
      "outputs": [],
      "source": [
        "# INSTALANDO AS BIBLIOTECAS\n",
        "!python -m spacy download pt_core_news_sm -q"
      ]
    },
    {
      "cell_type": "code",
      "execution_count": null,
      "metadata": {
        "id": "7fi7I2fhkCNl"
      },
      "outputs": [],
      "source": [
        "# IMPORTAÇÃO DAS BIBLIOTECAS\n",
        "import pandas as pd \n",
        "import spacy \n",
        "pd.options.mode.chained_assignment = None  "
      ]
    },
    {
      "cell_type": "code",
      "execution_count": null,
      "metadata": {
        "id": "R14D0H5f0dH8"
      },
      "outputs": [],
      "source": [
        "# LEITURA DO DATAFRAME COM PANDAS \n",
        "data = pd.read_csv('dataframe.csv')"
      ]
    },
    {
      "cell_type": "code",
      "execution_count": null,
      "metadata": {
        "id": "kDk3Pl4HJedW"
      },
      "outputs": [],
      "source": [
        "# FUNÇÃO PARA LEMMATIZAR\n",
        "def lemmatization(text):\n",
        "  nlp = spacy.load('pt_core_news_sm')\n",
        "  text_temp = str(text)\n",
        "  doc = nlp(text_temp)\n",
        "  words_lemma = [token.lemma_ for token in doc]\n",
        "  return ' '.join(words_lemma)"
      ]
    },
    {
      "cell_type": "code",
      "execution_count": null,
      "metadata": {
        "id": "WfGHJVQoJmRb"
      },
      "outputs": [],
      "source": [
        "# LEMMATIZANDO OS TWEETS\n",
        "data['content_lemmatizada'] = data['content'].apply(lemmatization)"
      ]
    },
    {
      "cell_type": "code",
      "execution_count": null,
      "metadata": {
        "id": "KIpN3PrAjhVR"
      },
      "outputs": [],
      "source": [
        "# SALVANDO O DF COM A COLUNA LEMMATIZADA\n",
        "data.to_csv(\"/content/drive/MyDrive/PesquisaCovid/user/user_2020-02-01_2020-03-31.csv\")"
      ]
    }
  ],
  "metadata": {
    "colab": {
      "collapsed_sections": [],
      "provenance": []
    },
    "kernelspec": {
      "display_name": "Python 3",
      "name": "python3"
    },
    "language_info": {
      "name": "python"
    }
  },
  "nbformat": 4,
  "nbformat_minor": 0
}
